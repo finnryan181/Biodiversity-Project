{
 "cells": [
  {
   "cell_type": "markdown",
   "metadata": {},
   "source": [
    "# Biodiversity in US national parks"
   ]
  },
  {
   "cell_type": "markdown",
   "metadata": {},
   "source": [
    "### Abstract"
   ]
  },
  {
   "cell_type": "markdown",
   "metadata": {},
   "source": [
    "We will be analysing observation data from several US national parks, and investigating how these data compare with the methods used to estimate species populations in national parks."
   ]
  },
  {
   "cell_type": "code",
   "execution_count": 4,
   "metadata": {},
   "outputs": [],
   "source": [
    "import pandas as pd\n",
    "import numpy as np\n",
    "import matplotlib.pyplot as plt\n",
    "import seaborn as sns\n",
    "from IPython.display import display, HTML"
   ]
  },
  {
   "cell_type": "markdown",
   "metadata": {},
   "source": [
    "## 0 - Limitations of observation data"
   ]
  },
  {
   "cell_type": "markdown",
   "metadata": {},
   "source": [
    "The data we are using has been manufactured by Codecademy for the purposes of this project. National parks would likely use such data to extrapolate population counts for each species. We do not know what method was used, so we cannot be sure of the reliability of the data or any extrapolations. Later on, we will compare extrapolated population counts to real population counts for these parks, as well as comparing them to the conservation status. \n",
    "\n",
    "We will assume that the data is collected from real life studies. The data contains observations on plant and animal life, so we can assume that at least two method of observation have been used. We will assume that the intention of the observers is to count each animal once. In this case, it is possible tha some animals may have been under or over-counted. It is also possible that some animals/plants may have been misattributed to the wrong species.\n"
   ]
  },
  {
   "cell_type": "markdown",
   "metadata": {},
   "source": [
    "## 1 - Species diversity"
   ]
  },
  {
   "cell_type": "markdown",
   "metadata": {},
   "source": [
    "count how many unique species are in each park. break down into category, to see which categories are the most/least diverse in each park. compare this to the total observation count across all species (per park)."
   ]
  },
  {
   "cell_type": "markdown",
   "metadata": {},
   "source": [
    "Let us convert observations.csv and species_info.csv into dataframes, and look at the first five rows of each."
   ]
  },
  {
   "cell_type": "code",
   "execution_count": 10,
   "metadata": {},
   "outputs": [
    {
     "name": "stdout",
     "output_type": "stream",
     "text": [
      "            scientific_name                            park_name  observations\n",
      "0        Vicia benghalensis  Great Smoky Mountains National Park            68\n",
      "1            Neovison vison  Great Smoky Mountains National Park            77\n",
      "2         Prunus subcordata               Yosemite National Park           138\n",
      "3      Abutilon theophrasti                  Bryce National Park            84\n",
      "4  Githopsis specularioides  Great Smoky Mountains National Park            85\n",
      "  category                scientific_name  \\\n",
      "0   Mammal  Clethrionomys gapperi gapperi   \n",
      "1   Mammal                      Bos bison   \n",
      "2   Mammal                     Bos taurus   \n",
      "3   Mammal                     Ovis aries   \n",
      "4   Mammal                 Cervus elaphus   \n",
      "\n",
      "                                        common_names conservation_status  \n",
      "0                           Gapper's Red-Backed Vole                 NaN  \n",
      "1                              American Bison, Bison                 NaN  \n",
      "2  Aurochs, Aurochs, Domestic Cattle (Feral), Dom...                 NaN  \n",
      "3  Domestic Sheep, Mouflon, Red Sheep, Sheep (Feral)                 NaN  \n",
      "4                                      Wapiti Or Elk                 NaN  \n"
     ]
    }
   ],
   "source": [
    "observations = pd.read_csv('observations.csv')\n",
    "print(observations.head())\n",
    "species_info = pd.read_csv('species_info.csv')\n",
    "print(species_info.head())"
   ]
  },
  {
   "cell_type": "markdown",
   "metadata": {},
   "source": [
    "We want to check if scientific_name and common_names are 1-to-1 in the species_info dataframe."
   ]
  },
  {
   "cell_type": "code",
   "execution_count": 12,
   "metadata": {},
   "outputs": [
    {
     "data": {
      "text/plain": [
       "common_names\n",
       "Dicranum Moss                                                          7\n",
       "Brachythecium Moss                                                     7\n",
       "Panic Grass                                                            6\n",
       "Sphagnum                                                               6\n",
       "Bryum Moss                                                             6\n",
       "                                                                      ..\n",
       "Eared Grebe                                                            1\n",
       "Eagle Fern, Hairy Brackenfern, Western Bracken, Western Brackenfern    1\n",
       "Dyer's Woad                                                            1\n",
       "Dwarf Willow                                                           1\n",
       "Jepson's Willow                                                        1\n",
       "Name: scientific_name, Length: 5504, dtype: int64"
      ]
     },
     "execution_count": 12,
     "metadata": {},
     "output_type": "execute_result"
    }
   ],
   "source": [
    "species_info.groupby('common_names')['scientific_name'].nunique().sort_values(ascending=False)\n"
   ]
  },
  {
   "cell_type": "code",
   "execution_count": 13,
   "metadata": {},
   "outputs": [
    {
     "data": {
      "text/plain": [
       "scientific_name\n",
       "Columba livia                          3\n",
       "Holcus lanatus                         3\n",
       "Streptopelia decaocto                  3\n",
       "Hypochaeris radicata                   3\n",
       "Puma concolor                          3\n",
       "                                      ..\n",
       "Equisetum laevigatum                   1\n",
       "Equisetum hyemale ssp. affine          1\n",
       "Equisetum fluviatile                   1\n",
       "Epipactis gigantea                     1\n",
       "Zygodon viridissimus var. rupestris    1\n",
       "Name: common_names, Length: 5541, dtype: int64"
      ]
     },
     "execution_count": 13,
     "metadata": {},
     "output_type": "execute_result"
    }
   ],
   "source": [
    "species_info.groupby('scientific_name')['common_names'].nunique().sort_values(ascending=False)\n"
   ]
  },
  {
   "cell_type": "markdown",
   "metadata": {},
   "source": [
    "This indicates to us that each common name, or group of common names, may be applied to multiple seperate scientific names, and vice versa."
   ]
  },
  {
   "cell_type": "code",
   "execution_count": 15,
   "metadata": {},
   "outputs": [
    {
     "data": {
      "text/html": [
       "<div>\n",
       "<style scoped>\n",
       "    .dataframe tbody tr th:only-of-type {\n",
       "        vertical-align: middle;\n",
       "    }\n",
       "\n",
       "    .dataframe tbody tr th {\n",
       "        vertical-align: top;\n",
       "    }\n",
       "\n",
       "    .dataframe thead th {\n",
       "        text-align: right;\n",
       "    }\n",
       "</style>\n",
       "<table border=\"1\" class=\"dataframe\">\n",
       "  <thead>\n",
       "    <tr style=\"text-align: right;\">\n",
       "      <th></th>\n",
       "      <th>category</th>\n",
       "      <th>scientific_name</th>\n",
       "      <th>common_names</th>\n",
       "      <th>conservation_status</th>\n",
       "    </tr>\n",
       "  </thead>\n",
       "  <tbody>\n",
       "    <tr>\n",
       "      <th>2242</th>\n",
       "      <td>Vascular Plant</td>\n",
       "      <td>Holcus lanatus</td>\n",
       "      <td>Common Velvet Grass, Velvetgrass</td>\n",
       "      <td>NaN</td>\n",
       "    </tr>\n",
       "    <tr>\n",
       "      <th>4236</th>\n",
       "      <td>Vascular Plant</td>\n",
       "      <td>Holcus lanatus</td>\n",
       "      <td>Common Velvetgrass, Yorkshire-Fog</td>\n",
       "      <td>NaN</td>\n",
       "    </tr>\n",
       "    <tr>\n",
       "      <th>5600</th>\n",
       "      <td>Vascular Plant</td>\n",
       "      <td>Holcus lanatus</td>\n",
       "      <td>Common Velvetgrass, Velvetgrass, Yorkshire Fog</td>\n",
       "      <td>NaN</td>\n",
       "    </tr>\n",
       "  </tbody>\n",
       "</table>\n",
       "</div>"
      ],
      "text/plain": [
       "            category scientific_name  \\\n",
       "2242  Vascular Plant  Holcus lanatus   \n",
       "4236  Vascular Plant  Holcus lanatus   \n",
       "5600  Vascular Plant  Holcus lanatus   \n",
       "\n",
       "                                        common_names conservation_status  \n",
       "2242                Common Velvet Grass, Velvetgrass                 NaN  \n",
       "4236               Common Velvetgrass, Yorkshire-Fog                 NaN  \n",
       "5600  Common Velvetgrass, Velvetgrass, Yorkshire Fog                 NaN  "
      ]
     },
     "execution_count": 15,
     "metadata": {},
     "output_type": "execute_result"
    }
   ],
   "source": [
    "species_info[species_info['common_names'].str.contains('velvetgrass', case=False, na=False)]"
   ]
  },
  {
   "cell_type": "markdown",
   "metadata": {},
   "source": [
    "We can also see that each common_name entry might be a single name, or a list of names, and that we may effectively have duplicate entries. \n",
    "\n",
    "What we want to do is split **common_names** by comma, then redo species_info so that every scientific name has every common name associated with it in it's **common_names** column."
   ]
  },
  {
   "cell_type": "markdown",
   "metadata": {},
   "source": [
    "### 1.1 - Data cleaning: reconstituting **species_info**"
   ]
  },
  {
   "cell_type": "code",
   "execution_count": 18,
   "metadata": {},
   "outputs": [
    {
     "data": {
      "text/html": [
       "<div>\n",
       "<style scoped>\n",
       "    .dataframe tbody tr th:only-of-type {\n",
       "        vertical-align: middle;\n",
       "    }\n",
       "\n",
       "    .dataframe tbody tr th {\n",
       "        vertical-align: top;\n",
       "    }\n",
       "\n",
       "    .dataframe thead th {\n",
       "        text-align: right;\n",
       "    }\n",
       "</style>\n",
       "<table border=\"1\" class=\"dataframe\">\n",
       "  <thead>\n",
       "    <tr style=\"text-align: right;\">\n",
       "      <th></th>\n",
       "      <th>scientific_name</th>\n",
       "      <th>common_names</th>\n",
       "    </tr>\n",
       "  </thead>\n",
       "  <tbody>\n",
       "    <tr>\n",
       "      <th>0</th>\n",
       "      <td>Abies bifolia</td>\n",
       "      <td>Rocky Mountain Alpine Fir</td>\n",
       "    </tr>\n",
       "    <tr>\n",
       "      <th>1</th>\n",
       "      <td>Abies concolor</td>\n",
       "      <td>Balsam Fir, Colorado Fir, Concolor Fir, Silver...</td>\n",
       "    </tr>\n",
       "    <tr>\n",
       "      <th>2</th>\n",
       "      <td>Abies fraseri</td>\n",
       "      <td>Fraser Fir</td>\n",
       "    </tr>\n",
       "    <tr>\n",
       "      <th>3</th>\n",
       "      <td>Abietinella abietina</td>\n",
       "      <td>Abietinella Moss</td>\n",
       "    </tr>\n",
       "    <tr>\n",
       "      <th>4</th>\n",
       "      <td>Abronia ammophila</td>\n",
       "      <td>Wyoming Sand Verbena, Yellowstone Sand Verbena</td>\n",
       "    </tr>\n",
       "    <tr>\n",
       "      <th>...</th>\n",
       "      <td>...</td>\n",
       "      <td>...</td>\n",
       "    </tr>\n",
       "    <tr>\n",
       "      <th>5536</th>\n",
       "      <td>Zonotrichia leucophrys gambelii</td>\n",
       "      <td>Gambel's White-Crowned Sparrow</td>\n",
       "    </tr>\n",
       "    <tr>\n",
       "      <th>5537</th>\n",
       "      <td>Zonotrichia leucophrys oriantha</td>\n",
       "      <td>Mountain White-Crowned Sparrow</td>\n",
       "    </tr>\n",
       "    <tr>\n",
       "      <th>5538</th>\n",
       "      <td>Zonotrichia querula</td>\n",
       "      <td>Harris's Sparrow</td>\n",
       "    </tr>\n",
       "    <tr>\n",
       "      <th>5539</th>\n",
       "      <td>Zygodon viridissimus</td>\n",
       "      <td>Zygodon Moss</td>\n",
       "    </tr>\n",
       "    <tr>\n",
       "      <th>5540</th>\n",
       "      <td>Zygodon viridissimus var. rupestris</td>\n",
       "      <td>Zygodon Moss</td>\n",
       "    </tr>\n",
       "  </tbody>\n",
       "</table>\n",
       "<p>5541 rows × 2 columns</p>\n",
       "</div>"
      ],
      "text/plain": [
       "                          scientific_name  \\\n",
       "0                           Abies bifolia   \n",
       "1                          Abies concolor   \n",
       "2                           Abies fraseri   \n",
       "3                    Abietinella abietina   \n",
       "4                       Abronia ammophila   \n",
       "...                                   ...   \n",
       "5536      Zonotrichia leucophrys gambelii   \n",
       "5537      Zonotrichia leucophrys oriantha   \n",
       "5538                  Zonotrichia querula   \n",
       "5539                 Zygodon viridissimus   \n",
       "5540  Zygodon viridissimus var. rupestris   \n",
       "\n",
       "                                           common_names  \n",
       "0                             Rocky Mountain Alpine Fir  \n",
       "1     Balsam Fir, Colorado Fir, Concolor Fir, Silver...  \n",
       "2                                            Fraser Fir  \n",
       "3                                      Abietinella Moss  \n",
       "4        Wyoming Sand Verbena, Yellowstone Sand Verbena  \n",
       "...                                                 ...  \n",
       "5536                     Gambel's White-Crowned Sparrow  \n",
       "5537                     Mountain White-Crowned Sparrow  \n",
       "5538                                   Harris's Sparrow  \n",
       "5539                                       Zygodon Moss  \n",
       "5540                                       Zygodon Moss  \n",
       "\n",
       "[5541 rows x 2 columns]"
      ]
     },
     "execution_count": 18,
     "metadata": {},
     "output_type": "execute_result"
    }
   ],
   "source": [
    "species_info['common_names'] = species_info['common_names'].astype(str)\n",
    "species_info['common_names'] = species_info['common_names'].str.split(',')\n",
    "\n",
    "exploded = species_info.explode('common_names')\n",
    "exploded['common_names'] = exploded['common_names'].str.strip()\n",
    "exploded = exploded[exploded['common_names'] != '']\n",
    "\n",
    "cleaned_species_info = (\n",
    "     exploded.groupby(['scientific_name'])['common_names'].apply(lambda names: ', '.join(sorted(set(names)))).reset_index())\n",
    "\n",
    "cleaned_species_info"
   ]
  },
  {
   "cell_type": "markdown",
   "metadata": {},
   "source": [
    "Now we want to redifine the **species_info** to have these exhaustive lists of common_names"
   ]
  },
  {
   "cell_type": "code",
   "execution_count": 20,
   "metadata": {},
   "outputs": [],
   "source": [
    "species_info = species_info.drop(columns=['common_names'])\n",
    "\n",
    "species_info = pd.merge(species_info, cleaned_species_info, on='scientific_name', how='left')\n",
    "\n"
   ]
  },
  {
   "cell_type": "code",
   "execution_count": 42,
   "metadata": {},
   "outputs": [
    {
     "data": {
      "text/html": [
       "<div>\n",
       "<style scoped>\n",
       "    .dataframe tbody tr th:only-of-type {\n",
       "        vertical-align: middle;\n",
       "    }\n",
       "\n",
       "    .dataframe tbody tr th {\n",
       "        vertical-align: top;\n",
       "    }\n",
       "\n",
       "    .dataframe thead th {\n",
       "        text-align: right;\n",
       "    }\n",
       "</style>\n",
       "<table border=\"1\" class=\"dataframe\">\n",
       "  <thead>\n",
       "    <tr style=\"text-align: right;\">\n",
       "      <th></th>\n",
       "      <th>category</th>\n",
       "      <th>scientific_name</th>\n",
       "      <th>common_names</th>\n",
       "      <th>conservation_status</th>\n",
       "    </tr>\n",
       "  </thead>\n",
       "  <tbody>\n",
       "    <tr>\n",
       "      <th>5553</th>\n",
       "      <td>Vascular Plant</td>\n",
       "      <td>Agrostis capillaris</td>\n",
       "      <td>Colonial Bent, Colonial Bentgrass, Rhode Islan...</td>\n",
       "      <td>NaN</td>\n",
       "    </tr>\n",
       "    <tr>\n",
       "      <th>2132</th>\n",
       "      <td>Vascular Plant</td>\n",
       "      <td>Agrostis capillaris</td>\n",
       "      <td>Colonial Bent, Colonial Bentgrass, Rhode Islan...</td>\n",
       "      <td>NaN</td>\n",
       "    </tr>\n",
       "    <tr>\n",
       "      <th>2134</th>\n",
       "      <td>Vascular Plant</td>\n",
       "      <td>Agrostis gigantea</td>\n",
       "      <td>Black Bent, Redtop, Water Bentgrass</td>\n",
       "      <td>NaN</td>\n",
       "    </tr>\n",
       "    <tr>\n",
       "      <th>5554</th>\n",
       "      <td>Vascular Plant</td>\n",
       "      <td>Agrostis gigantea</td>\n",
       "      <td>Black Bent, Redtop, Water Bentgrass</td>\n",
       "      <td>NaN</td>\n",
       "    </tr>\n",
       "    <tr>\n",
       "      <th>4178</th>\n",
       "      <td>Vascular Plant</td>\n",
       "      <td>Agrostis mertensii</td>\n",
       "      <td>Arctic Bentgrass, Northern Agrostis, Northern ...</td>\n",
       "      <td>NaN</td>\n",
       "    </tr>\n",
       "    <tr>\n",
       "      <th>...</th>\n",
       "      <td>...</td>\n",
       "      <td>...</td>\n",
       "      <td>...</td>\n",
       "      <td>...</td>\n",
       "    </tr>\n",
       "    <tr>\n",
       "      <th>5643</th>\n",
       "      <td>Vascular Plant</td>\n",
       "      <td>Vulpia myuros</td>\n",
       "      <td>Foxtail Fescue, Rat-Tail Fescue, Rat-Tailed Fe...</td>\n",
       "      <td>NaN</td>\n",
       "    </tr>\n",
       "    <tr>\n",
       "      <th>2331</th>\n",
       "      <td>Vascular Plant</td>\n",
       "      <td>Vulpia octoflora</td>\n",
       "      <td>Annual Fescue, Eight-Flower Six-Weeks Grass, P...</td>\n",
       "      <td>NaN</td>\n",
       "    </tr>\n",
       "    <tr>\n",
       "      <th>4290</th>\n",
       "      <td>Vascular Plant</td>\n",
       "      <td>Vulpia octoflora</td>\n",
       "      <td>Annual Fescue, Eight-Flower Six-Weeks Grass, P...</td>\n",
       "      <td>NaN</td>\n",
       "    </tr>\n",
       "    <tr>\n",
       "      <th>3347</th>\n",
       "      <td>Vascular Plant</td>\n",
       "      <td>Zizia aptera</td>\n",
       "      <td>Golden Alexanders, Heart-Leaf Alexanders, Hear...</td>\n",
       "      <td>NaN</td>\n",
       "    </tr>\n",
       "    <tr>\n",
       "      <th>632</th>\n",
       "      <td>Vascular Plant</td>\n",
       "      <td>Zizia aptera</td>\n",
       "      <td>Golden Alexanders, Heart-Leaf Alexanders, Hear...</td>\n",
       "      <td>NaN</td>\n",
       "    </tr>\n",
       "  </tbody>\n",
       "</table>\n",
       "<p>557 rows × 4 columns</p>\n",
       "</div>"
      ],
      "text/plain": [
       "            category      scientific_name  \\\n",
       "5553  Vascular Plant  Agrostis capillaris   \n",
       "2132  Vascular Plant  Agrostis capillaris   \n",
       "2134  Vascular Plant    Agrostis gigantea   \n",
       "5554  Vascular Plant    Agrostis gigantea   \n",
       "4178  Vascular Plant   Agrostis mertensii   \n",
       "...              ...                  ...   \n",
       "5643  Vascular Plant        Vulpia myuros   \n",
       "2331  Vascular Plant     Vulpia octoflora   \n",
       "4290  Vascular Plant     Vulpia octoflora   \n",
       "3347  Vascular Plant         Zizia aptera   \n",
       "632   Vascular Plant         Zizia aptera   \n",
       "\n",
       "                                           common_names conservation_status  \n",
       "5553  Colonial Bent, Colonial Bentgrass, Rhode Islan...                 NaN  \n",
       "2132  Colonial Bent, Colonial Bentgrass, Rhode Islan...                 NaN  \n",
       "2134                Black Bent, Redtop, Water Bentgrass                 NaN  \n",
       "5554                Black Bent, Redtop, Water Bentgrass                 NaN  \n",
       "4178  Arctic Bentgrass, Northern Agrostis, Northern ...                 NaN  \n",
       "...                                                 ...                 ...  \n",
       "5643  Foxtail Fescue, Rat-Tail Fescue, Rat-Tailed Fe...                 NaN  \n",
       "2331  Annual Fescue, Eight-Flower Six-Weeks Grass, P...                 NaN  \n",
       "4290  Annual Fescue, Eight-Flower Six-Weeks Grass, P...                 NaN  \n",
       "3347  Golden Alexanders, Heart-Leaf Alexanders, Hear...                 NaN  \n",
       "632   Golden Alexanders, Heart-Leaf Alexanders, Hear...                 NaN  \n",
       "\n",
       "[557 rows x 4 columns]"
      ]
     },
     "execution_count": 42,
     "metadata": {},
     "output_type": "execute_result"
    }
   ],
   "source": [
    "#Reording our columns\n",
    "species_info = species_info[['category', 'scientific_name', 'common_names', 'conservation_status']]\n",
    "\n",
    "#Check for duplicates\n",
    "species_info[species_info.duplicated(subset=['scientific_name'], keep=False)].sort_values(by='scientific_name')"
   ]
  },
  {
   "cell_type": "markdown",
   "metadata": {},
   "source": [
    "As expected, there are many duplicates, which will now be dropped."
   ]
  },
  {
   "cell_type": "code",
   "execution_count": 49,
   "metadata": {},
   "outputs": [
    {
     "data": {
      "text/html": [
       "<div>\n",
       "<style scoped>\n",
       "    .dataframe tbody tr th:only-of-type {\n",
       "        vertical-align: middle;\n",
       "    }\n",
       "\n",
       "    .dataframe tbody tr th {\n",
       "        vertical-align: top;\n",
       "    }\n",
       "\n",
       "    .dataframe thead th {\n",
       "        text-align: right;\n",
       "    }\n",
       "</style>\n",
       "<table border=\"1\" class=\"dataframe\">\n",
       "  <thead>\n",
       "    <tr style=\"text-align: right;\">\n",
       "      <th></th>\n",
       "      <th>category</th>\n",
       "      <th>scientific_name</th>\n",
       "      <th>common_names</th>\n",
       "      <th>conservation_status</th>\n",
       "    </tr>\n",
       "  </thead>\n",
       "  <tbody>\n",
       "    <tr>\n",
       "      <th>0</th>\n",
       "      <td>Mammal</td>\n",
       "      <td>Clethrionomys gapperi gapperi</td>\n",
       "      <td>Gapper's Red-Backed Vole</td>\n",
       "      <td>NaN</td>\n",
       "    </tr>\n",
       "    <tr>\n",
       "      <th>1</th>\n",
       "      <td>Mammal</td>\n",
       "      <td>Bos bison</td>\n",
       "      <td>American Bison, Bison</td>\n",
       "      <td>NaN</td>\n",
       "    </tr>\n",
       "    <tr>\n",
       "      <th>2</th>\n",
       "      <td>Mammal</td>\n",
       "      <td>Bos taurus</td>\n",
       "      <td>Aurochs, Domestic Cattle (Feral), Domesticated...</td>\n",
       "      <td>NaN</td>\n",
       "    </tr>\n",
       "    <tr>\n",
       "      <th>3</th>\n",
       "      <td>Mammal</td>\n",
       "      <td>Ovis aries</td>\n",
       "      <td>Domestic Sheep, Mouflon, Red Sheep, Sheep (Feral)</td>\n",
       "      <td>NaN</td>\n",
       "    </tr>\n",
       "    <tr>\n",
       "      <th>4</th>\n",
       "      <td>Mammal</td>\n",
       "      <td>Cervus elaphus</td>\n",
       "      <td>Rocky Mountain Elk, Wapiti Or Elk</td>\n",
       "      <td>NaN</td>\n",
       "    </tr>\n",
       "    <tr>\n",
       "      <th>...</th>\n",
       "      <td>...</td>\n",
       "      <td>...</td>\n",
       "      <td>...</td>\n",
       "      <td>...</td>\n",
       "    </tr>\n",
       "    <tr>\n",
       "      <th>5819</th>\n",
       "      <td>Vascular Plant</td>\n",
       "      <td>Solanum parishii</td>\n",
       "      <td>Parish's Nightshade</td>\n",
       "      <td>NaN</td>\n",
       "    </tr>\n",
       "    <tr>\n",
       "      <th>5820</th>\n",
       "      <td>Vascular Plant</td>\n",
       "      <td>Solanum xanti</td>\n",
       "      <td>Chaparral Nightshade, Purple Nightshade</td>\n",
       "      <td>NaN</td>\n",
       "    </tr>\n",
       "    <tr>\n",
       "      <th>5821</th>\n",
       "      <td>Vascular Plant</td>\n",
       "      <td>Parthenocissus vitacea</td>\n",
       "      <td>Thicket Creeper, Virginia Creeper, Woodbine</td>\n",
       "      <td>NaN</td>\n",
       "    </tr>\n",
       "    <tr>\n",
       "      <th>5822</th>\n",
       "      <td>Vascular Plant</td>\n",
       "      <td>Vitis californica</td>\n",
       "      <td>California Grape, California Wild Grape</td>\n",
       "      <td>NaN</td>\n",
       "    </tr>\n",
       "    <tr>\n",
       "      <th>5823</th>\n",
       "      <td>Vascular Plant</td>\n",
       "      <td>Tribulus terrestris</td>\n",
       "      <td>Bullhead, Caltrop, Goathead, Mexican Sandbur, ...</td>\n",
       "      <td>NaN</td>\n",
       "    </tr>\n",
       "  </tbody>\n",
       "</table>\n",
       "<p>5541 rows × 4 columns</p>\n",
       "</div>"
      ],
      "text/plain": [
       "            category                scientific_name  \\\n",
       "0             Mammal  Clethrionomys gapperi gapperi   \n",
       "1             Mammal                      Bos bison   \n",
       "2             Mammal                     Bos taurus   \n",
       "3             Mammal                     Ovis aries   \n",
       "4             Mammal                 Cervus elaphus   \n",
       "...              ...                            ...   \n",
       "5819  Vascular Plant               Solanum parishii   \n",
       "5820  Vascular Plant                  Solanum xanti   \n",
       "5821  Vascular Plant         Parthenocissus vitacea   \n",
       "5822  Vascular Plant              Vitis californica   \n",
       "5823  Vascular Plant            Tribulus terrestris   \n",
       "\n",
       "                                           common_names conservation_status  \n",
       "0                              Gapper's Red-Backed Vole                 NaN  \n",
       "1                                 American Bison, Bison                 NaN  \n",
       "2     Aurochs, Domestic Cattle (Feral), Domesticated...                 NaN  \n",
       "3     Domestic Sheep, Mouflon, Red Sheep, Sheep (Feral)                 NaN  \n",
       "4                     Rocky Mountain Elk, Wapiti Or Elk                 NaN  \n",
       "...                                                 ...                 ...  \n",
       "5819                                Parish's Nightshade                 NaN  \n",
       "5820            Chaparral Nightshade, Purple Nightshade                 NaN  \n",
       "5821        Thicket Creeper, Virginia Creeper, Woodbine                 NaN  \n",
       "5822            California Grape, California Wild Grape                 NaN  \n",
       "5823  Bullhead, Caltrop, Goathead, Mexican Sandbur, ...                 NaN  \n",
       "\n",
       "[5541 rows x 4 columns]"
      ]
     },
     "execution_count": 49,
     "metadata": {},
     "output_type": "execute_result"
    }
   ],
   "source": [
    "species_info = species_info.drop_duplicates(subset=['scientific_name'], keep='first')\n",
    "species_info"
   ]
  },
  {
   "cell_type": "markdown",
   "metadata": {},
   "source": [
    "We have tidied up the common_names, so that each species has an exhau"
   ]
  },
  {
   "cell_type": "markdown",
   "metadata": {},
   "source": [
    "How many unique species have we got, and how many national parks do we have data for?"
   ]
  },
  {
   "cell_type": "code",
   "execution_count": 33,
   "metadata": {},
   "outputs": [
    {
     "name": "stdout",
     "output_type": "stream",
     "text": [
      "5541\n",
      "4\n"
     ]
    }
   ],
   "source": [
    "unique_species = observations.scientific_name.nunique()\n",
    "print(unique_species)\n",
    "no_of_parks = observations.park_name.nunique()\n",
    "print(no_of_parks)"
   ]
  },
  {
   "cell_type": "markdown",
   "metadata": {},
   "source": [
    "That's a lot of species! It won't do listing them all, but let's look at how many parks we're working with."
   ]
  },
  {
   "cell_type": "code",
   "execution_count": 84,
   "metadata": {},
   "outputs": [
    {
     "data": {
      "text/plain": [
       "array(['Great Smoky Mountains National Park', 'Yosemite National Park',\n",
       "       'Bryce National Park', 'Yellowstone National Park'], dtype=object)"
      ]
     },
     "execution_count": 84,
     "metadata": {},
     "output_type": "execute_result"
    }
   ],
   "source": [
    "parks = observations.park_name.unique()\n",
    "parks"
   ]
  },
  {
   "cell_type": "markdown",
   "metadata": {},
   "source": [
    "Now lets see how many distinct species each park has."
   ]
  },
  {
   "cell_type": "code",
   "execution_count": 41,
   "metadata": {},
   "outputs": [
    {
     "data": {
      "text/plain": [
       "park_name\n",
       "Bryce National Park                    5541\n",
       "Great Smoky Mountains National Park    5541\n",
       "Yellowstone National Park              5541\n",
       "Yosemite National Park                 5541\n",
       "Name: scientific_name, dtype: int64"
      ]
     },
     "execution_count": 41,
     "metadata": {},
     "output_type": "execute_result"
    }
   ],
   "source": [
    "unique_species_per_park = observations.groupby('park_name')['scientific_name'].nunique()\n",
    "unique_species_per_park"
   ]
  },
  {
   "cell_type": "markdown",
   "metadata": {},
   "source": [
    "We can see that each of our 5541 species is found in each park.\n",
    "\n",
    "What species are observed overall vs in each park? We will start by merging **observations** with **species_info** so we can see the common names of each of these species."
   ]
  },
  {
   "cell_type": "code",
   "execution_count": 62,
   "metadata": {},
   "outputs": [
    {
     "data": {
      "text/html": [
       "<div>\n",
       "<style scoped>\n",
       "    .dataframe tbody tr th:only-of-type {\n",
       "        vertical-align: middle;\n",
       "    }\n",
       "\n",
       "    .dataframe tbody tr th {\n",
       "        vertical-align: top;\n",
       "    }\n",
       "\n",
       "    .dataframe thead th {\n",
       "        text-align: right;\n",
       "    }\n",
       "</style>\n",
       "<table border=\"1\" class=\"dataframe\">\n",
       "  <thead>\n",
       "    <tr style=\"text-align: right;\">\n",
       "      <th></th>\n",
       "      <th>scientific_name</th>\n",
       "      <th>park_name</th>\n",
       "      <th>observations</th>\n",
       "      <th>category</th>\n",
       "      <th>common_names</th>\n",
       "      <th>conservation_status</th>\n",
       "    </tr>\n",
       "  </thead>\n",
       "  <tbody>\n",
       "    <tr>\n",
       "      <th>0</th>\n",
       "      <td>Vicia benghalensis</td>\n",
       "      <td>Great Smoky Mountains National Park</td>\n",
       "      <td>68</td>\n",
       "      <td>Vascular Plant</td>\n",
       "      <td>Purple Vetch, Reddish Tufted Vetch</td>\n",
       "      <td>NaN</td>\n",
       "    </tr>\n",
       "    <tr>\n",
       "      <th>1</th>\n",
       "      <td>Neovison vison</td>\n",
       "      <td>Great Smoky Mountains National Park</td>\n",
       "      <td>77</td>\n",
       "      <td>Mammal</td>\n",
       "      <td>American Mink</td>\n",
       "      <td>NaN</td>\n",
       "    </tr>\n",
       "    <tr>\n",
       "      <th>2</th>\n",
       "      <td>Prunus subcordata</td>\n",
       "      <td>Yosemite National Park</td>\n",
       "      <td>138</td>\n",
       "      <td>Vascular Plant</td>\n",
       "      <td>Klamath Plum</td>\n",
       "      <td>NaN</td>\n",
       "    </tr>\n",
       "    <tr>\n",
       "      <th>3</th>\n",
       "      <td>Abutilon theophrasti</td>\n",
       "      <td>Bryce National Park</td>\n",
       "      <td>84</td>\n",
       "      <td>Vascular Plant</td>\n",
       "      <td>Velvetleaf</td>\n",
       "      <td>NaN</td>\n",
       "    </tr>\n",
       "    <tr>\n",
       "      <th>4</th>\n",
       "      <td>Githopsis specularioides</td>\n",
       "      <td>Great Smoky Mountains National Park</td>\n",
       "      <td>85</td>\n",
       "      <td>Vascular Plant</td>\n",
       "      <td>Common Bluecup</td>\n",
       "      <td>NaN</td>\n",
       "    </tr>\n",
       "    <tr>\n",
       "      <th>...</th>\n",
       "      <td>...</td>\n",
       "      <td>...</td>\n",
       "      <td>...</td>\n",
       "      <td>...</td>\n",
       "      <td>...</td>\n",
       "      <td>...</td>\n",
       "    </tr>\n",
       "    <tr>\n",
       "      <th>25627</th>\n",
       "      <td>Croton monanthogynus</td>\n",
       "      <td>Yosemite National Park</td>\n",
       "      <td>173</td>\n",
       "      <td>Vascular Plant</td>\n",
       "      <td>Prairie Tea</td>\n",
       "      <td>NaN</td>\n",
       "    </tr>\n",
       "    <tr>\n",
       "      <th>25628</th>\n",
       "      <td>Otospermophilus beecheyi</td>\n",
       "      <td>Bryce National Park</td>\n",
       "      <td>130</td>\n",
       "      <td>Mammal</td>\n",
       "      <td>California Ground Squirrel</td>\n",
       "      <td>NaN</td>\n",
       "    </tr>\n",
       "    <tr>\n",
       "      <th>25629</th>\n",
       "      <td>Heterotheca sessiliflora ssp. echioides</td>\n",
       "      <td>Bryce National Park</td>\n",
       "      <td>140</td>\n",
       "      <td>Vascular Plant</td>\n",
       "      <td>Sessileflower False Goldenaster</td>\n",
       "      <td>NaN</td>\n",
       "    </tr>\n",
       "    <tr>\n",
       "      <th>25630</th>\n",
       "      <td>Dicranella rufescens</td>\n",
       "      <td>Yosemite National Park</td>\n",
       "      <td>171</td>\n",
       "      <td>Nonvascular Plant</td>\n",
       "      <td>Dicranella Moss</td>\n",
       "      <td>NaN</td>\n",
       "    </tr>\n",
       "    <tr>\n",
       "      <th>25631</th>\n",
       "      <td>Cucurbita pepo</td>\n",
       "      <td>Yosemite National Park</td>\n",
       "      <td>164</td>\n",
       "      <td>Vascular Plant</td>\n",
       "      <td>Field Pumpkin</td>\n",
       "      <td>NaN</td>\n",
       "    </tr>\n",
       "  </tbody>\n",
       "</table>\n",
       "<p>25632 rows × 6 columns</p>\n",
       "</div>"
      ],
      "text/plain": [
       "                               scientific_name  \\\n",
       "0                           Vicia benghalensis   \n",
       "1                               Neovison vison   \n",
       "2                            Prunus subcordata   \n",
       "3                         Abutilon theophrasti   \n",
       "4                     Githopsis specularioides   \n",
       "...                                        ...   \n",
       "25627                     Croton monanthogynus   \n",
       "25628                 Otospermophilus beecheyi   \n",
       "25629  Heterotheca sessiliflora ssp. echioides   \n",
       "25630                     Dicranella rufescens   \n",
       "25631                           Cucurbita pepo   \n",
       "\n",
       "                                 park_name  observations           category  \\\n",
       "0      Great Smoky Mountains National Park            68     Vascular Plant   \n",
       "1      Great Smoky Mountains National Park            77             Mammal   \n",
       "2                   Yosemite National Park           138     Vascular Plant   \n",
       "3                      Bryce National Park            84     Vascular Plant   \n",
       "4      Great Smoky Mountains National Park            85     Vascular Plant   \n",
       "...                                    ...           ...                ...   \n",
       "25627               Yosemite National Park           173     Vascular Plant   \n",
       "25628                  Bryce National Park           130             Mammal   \n",
       "25629                  Bryce National Park           140     Vascular Plant   \n",
       "25630               Yosemite National Park           171  Nonvascular Plant   \n",
       "25631               Yosemite National Park           164     Vascular Plant   \n",
       "\n",
       "                             common_names conservation_status  \n",
       "0      Purple Vetch, Reddish Tufted Vetch                 NaN  \n",
       "1                           American Mink                 NaN  \n",
       "2                            Klamath Plum                 NaN  \n",
       "3                              Velvetleaf                 NaN  \n",
       "4                          Common Bluecup                 NaN  \n",
       "...                                   ...                 ...  \n",
       "25627                         Prairie Tea                 NaN  \n",
       "25628          California Ground Squirrel                 NaN  \n",
       "25629     Sessileflower False Goldenaster                 NaN  \n",
       "25630                     Dicranella Moss                 NaN  \n",
       "25631                       Field Pumpkin                 NaN  \n",
       "\n",
       "[25632 rows x 6 columns]"
      ]
     },
     "execution_count": 62,
     "metadata": {},
     "output_type": "execute_result"
    }
   ],
   "source": [
    "observations_info = pd.merge(observations, species_info, on='scientific_name', how='left')\n",
    "observations_info"
   ]
  },
  {
   "cell_type": "code",
   "execution_count": 75,
   "metadata": {},
   "outputs": [
    {
     "data": {
      "text/html": [
       "<div>\n",
       "<style scoped>\n",
       "    .dataframe tbody tr th:only-of-type {\n",
       "        vertical-align: middle;\n",
       "    }\n",
       "\n",
       "    .dataframe tbody tr th {\n",
       "        vertical-align: top;\n",
       "    }\n",
       "\n",
       "    .dataframe thead th {\n",
       "        text-align: right;\n",
       "    }\n",
       "</style>\n",
       "<table border=\"1\" class=\"dataframe\">\n",
       "  <thead>\n",
       "    <tr style=\"text-align: right;\">\n",
       "      <th></th>\n",
       "      <th>common_names</th>\n",
       "      <th>observations</th>\n",
       "    </tr>\n",
       "    <tr>\n",
       "      <th>scientific_name</th>\n",
       "      <th></th>\n",
       "      <th></th>\n",
       "    </tr>\n",
       "  </thead>\n",
       "  <tbody>\n",
       "    <tr>\n",
       "      <th>Streptopelia decaocto</th>\n",
       "      <td>Eurasian Collared-Dove</td>\n",
       "      <td>5355</td>\n",
       "    </tr>\n",
       "    <tr>\n",
       "      <th>Holcus lanatus</th>\n",
       "      <td>Common Velvet Grass, Velvetgrass</td>\n",
       "      <td>5340</td>\n",
       "    </tr>\n",
       "    <tr>\n",
       "      <th>Castor canadensis</th>\n",
       "      <td>American Beaver, Beaver</td>\n",
       "      <td>5175</td>\n",
       "    </tr>\n",
       "    <tr>\n",
       "      <th>Hypochaeris radicata</th>\n",
       "      <td>Cat's Ear, Spotted Cat's-Ear</td>\n",
       "      <td>5160</td>\n",
       "    </tr>\n",
       "    <tr>\n",
       "      <th>Puma concolor</th>\n",
       "      <td>Panther (Mountain Lion)</td>\n",
       "      <td>5133</td>\n",
       "    </tr>\n",
       "    <tr>\n",
       "      <th>Procyon lotor</th>\n",
       "      <td>Common Raccoon, Raccoon</td>\n",
       "      <td>5076</td>\n",
       "    </tr>\n",
       "    <tr>\n",
       "      <th>Columba livia</th>\n",
       "      <td>Rock Dove</td>\n",
       "      <td>4959</td>\n",
       "    </tr>\n",
       "    <tr>\n",
       "      <th>Myotis lucifugus</th>\n",
       "      <td>Little Brown Bat, Little Brown Myotis</td>\n",
       "      <td>4641</td>\n",
       "    </tr>\n",
       "    <tr>\n",
       "      <th>Bidens tripartita</th>\n",
       "      <td>Stick-Tight, Three-Lobe Beggar-Ticks</td>\n",
       "      <td>2592</td>\n",
       "    </tr>\n",
       "    <tr>\n",
       "      <th>Oxalis dillenii</th>\n",
       "      <td>Dillen's Woodsorrel, Yellow Sorrel</td>\n",
       "      <td>2552</td>\n",
       "    </tr>\n",
       "  </tbody>\n",
       "</table>\n",
       "</div>"
      ],
      "text/plain": [
       "                                                common_names  observations\n",
       "scientific_name                                                           \n",
       "Streptopelia decaocto                 Eurasian Collared-Dove          5355\n",
       "Holcus lanatus              Common Velvet Grass, Velvetgrass          5340\n",
       "Castor canadensis                    American Beaver, Beaver          5175\n",
       "Hypochaeris radicata            Cat's Ear, Spotted Cat's-Ear          5160\n",
       "Puma concolor                        Panther (Mountain Lion)          5133\n",
       "Procyon lotor                        Common Raccoon, Raccoon          5076\n",
       "Columba livia                                      Rock Dove          4959\n",
       "Myotis lucifugus       Little Brown Bat, Little Brown Myotis          4641\n",
       "Bidens tripartita       Stick-Tight, Three-Lobe Beggar-Ticks          2592\n",
       "Oxalis dillenii           Dillen's Woodsorrel, Yellow Sorrel          2552"
      ]
     },
     "execution_count": 75,
     "metadata": {},
     "output_type": "execute_result"
    }
   ],
   "source": [
    "common_species = observations_info.groupby('scientific_name').agg({'common_names': 'first',\n",
    "                                                                   'observations': 'sum'}).sort_values(by='observations', ascending=False)\n",
    "common_species.head(10)"
   ]
  },
  {
   "cell_type": "markdown",
   "metadata": {},
   "source": [
    "Let's create a bar graph of these 10 most populous species, and compare this with each parks top 10."
   ]
  },
  {
   "cell_type": "code",
   "execution_count": 81,
   "metadata": {},
   "outputs": [
    {
     "data": {
      "image/png": "[encoded data removed]",
      "text/plain": [
       "<Figure size 1000x600 with 1 Axes>"
      ]
     },
     "metadata": {},
     "output_type": "display_data"
    }
   ],
   "source": [
    "top_10 = common_species.head(10)\n",
    "\n",
    "plt.figure(figsize=(10,6))\n",
    "plt.barh(top_10['common_names'], top_10['observations'])\n",
    "plt.xlabel('Total Observations')\n",
    "plt.ylabel('Species')\n",
    "plt.title('Top 10 Most Observed Species')\n",
    "plt.gca().invert_yaxis()  # Highest on top\n",
    "plt.show()\n"
   ]
  },
  {
   "cell_type": "markdown",
   "metadata": {},
   "source": [
    "Now to do the same for each park."
   ]
  },
  {
   "cell_type": "code",
   "execution_count": 92,
   "metadata": {},
   "outputs": [
    {
     "data": {
      "image/png": "[encoded data removed]",
      "text/plain": [
       "<Figure size 1200x800 with 4 Axes>"
      ]
     },
     "metadata": {},
     "output_type": "display_data"
    },
    {
     "data": {
      "text/plain": [
       "<Figure size 640x480 with 0 Axes>"
      ]
     },
     "metadata": {},
     "output_type": "display_data"
    }
   ],
   "source": [
    "#We know already that there are four parks. So we will plot a 2 by 2 grid of these four parks.\n",
    "cols = 2\n",
    "rows = 2\n",
    "\n",
    "fig, axes = plt.subplots(rows, cols, figsize=(12, 8), constrained_layout=True)\n",
    "axes = axes.flatten()\n",
    "\n",
    "for i, park in enumerate(parks):\n",
    "    ax = axes[i]\n",
    "    subset = observations_info[observations_info['park_name'] == park]\n",
    "    top_species = subset.groupby(['common_names'])['observations'].sum().sort_values(ascending=False).head(10)\n",
    "\n",
    "    ax.barh(top_species.index, top_species.values)\n",
    "    ax.set_title(park)\n",
    "    ax.invert_yaxis()\n",
    "    ax.set_xlabel('Observations')\n",
    "\n",
    "plt.suptitle('Top Species Observations per Park', fontsize=16)\n",
    "plt.show()\n",
    "plt.clf()\n",
    "    "
   ]
  },
  {
   "cell_type": "markdown",
   "metadata": {},
   "source": [
    "And here are the top 10 rows of each of these dataframe:"
   ]
  },
  {
   "cell_type": "code",
   "execution_count": 113,
   "metadata": {},
   "outputs": [
    {
     "name": "stdout",
     "output_type": "stream",
     "text": [
      "\n",
      "===== Great Smoky Mountains National Park =====\n",
      "                                                   common_names  observations\n",
      "scientific_name                                                              \n",
      "Streptopelia decaocto                    Eurasian Collared-Dove           768\n",
      "Procyon lotor                           Common Raccoon, Raccoon           741\n",
      "Castor canadensis                       American Beaver, Beaver           729\n",
      "Puma concolor                           Panther (Mountain Lion)           717\n",
      "Holcus lanatus                 Common Velvet Grass, Velvetgrass           648\n",
      "Hypochaeris radicata               Cat's Ear, Spotted Cat's-Ear           585\n",
      "Myotis lucifugus          Little Brown Bat, Little Brown Myotis           522\n",
      "Columba livia                                         Rock Dove           507\n",
      "Fragaria virginiana        Virginia Strawberry, Wild Strawberry           434\n",
      "Microtus longicaudus   Coronation Island Vole, Long-Tailed Vole           424\n",
      "\n",
      "===== Yosemite National Park =====\n",
      "                                                common_names  observations\n",
      "scientific_name                                                           \n",
      "Hypochaeris radicata            Cat's Ear, Spotted Cat's-Ear          1515\n",
      "Castor canadensis                    American Beaver, Beaver          1503\n",
      "Holcus lanatus              Common Velvet Grass, Velvetgrass          1389\n",
      "Streptopelia decaocto                 Eurasian Collared-Dove          1371\n",
      "Procyon lotor                        Common Raccoon, Raccoon          1359\n",
      "Columba livia                                      Rock Dove          1269\n",
      "Puma concolor                        Panther (Mountain Lion)          1224\n",
      "Myotis lucifugus       Little Brown Bat, Little Brown Myotis          1188\n",
      "Nepeta cataria                                        Catnip           774\n",
      "Agrostis variabilis                       Mountain Bentgrass           764\n",
      "\n",
      "===== Bryce National Park =====\n",
      "                                                common_names  observations\n",
      "scientific_name                                                           \n",
      "Columba livia                                      Rock Dove          1017\n",
      "Puma concolor                        Panther (Mountain Lion)           933\n",
      "Streptopelia decaocto                 Eurasian Collared-Dove           903\n",
      "Myotis lucifugus       Little Brown Bat, Little Brown Myotis           894\n",
      "Holcus lanatus              Common Velvet Grass, Velvetgrass           888\n",
      "Hypochaeris radicata            Cat's Ear, Spotted Cat's-Ear           882\n",
      "Castor canadensis                    American Beaver, Beaver           834\n",
      "Procyon lotor                        Common Raccoon, Raccoon           741\n",
      "Avena sativa                            Cultivated Oat, Oats           606\n",
      "Viola arvensis                                   Field Pansy           554\n",
      "\n",
      "===== Yellowstone National Park =====\n",
      "                                                common_names  observations\n",
      "scientific_name                                                           \n",
      "Holcus lanatus              Common Velvet Grass, Velvetgrass          2415\n",
      "Streptopelia decaocto                 Eurasian Collared-Dove          2313\n",
      "Puma concolor                        Panther (Mountain Lion)          2259\n",
      "Procyon lotor                        Common Raccoon, Raccoon          2235\n",
      "Hypochaeris radicata            Cat's Ear, Spotted Cat's-Ear          2178\n",
      "Columba livia                                      Rock Dove          2166\n",
      "Castor canadensis                    American Beaver, Beaver          2109\n",
      "Myotis lucifugus       Little Brown Bat, Little Brown Myotis          2037\n",
      "Bidens tripartita       Stick-Tight, Three-Lobe Beggar-Ticks          1204\n",
      "Sorex hoyi                                       Pygmy Shrew          1146\n"
     ]
    }
   ],
   "source": [
    "for park in parks:\n",
    "    print(f\"\\n===== {park} =====\")\n",
    "    parkdata = observations_info[observations_info['park_name'] == park]\n",
    "    print(parkdata.groupby('scientific_name').agg({'common_names': 'first',\n",
    "                                            'observations': 'sum'}).sort_values(by='observations', ascending=False).head(10))\n",
    "    "
   ]
  },
  {
   "cell_type": "code",
   "execution_count": null,
   "metadata": {},
   "outputs": [],
   "source": []
  }
 ],
 "metadata": {
  "kernelspec": {
   "display_name": "Python [conda env:base] *",
   "language": "python",
   "name": "conda-base-py"
  },
  "language_info": {
   "codemirror_mode": {
    "name": "ipython",
    "version": 3
   },
   "file_extension": ".py",
   "mimetype": "text/x-python",
   "name": "python",
   "nbconvert_exporter": "python",
   "pygments_lexer": "ipython3",
   "version": "3.12.7"
  }
 },
 "nbformat": 4,
 "nbformat_minor": 4
}
